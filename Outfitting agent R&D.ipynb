{
 "cells": [
  {
   "cell_type": "code",
   "execution_count": 2,
   "metadata": {},
   "outputs": [],
   "source": [
    "from keras.models import Sequential\n",
    "from keras.layers.core import Dense, Activation\n",
    "from keras.optimizers import RMSprop,Adam\n",
    "import numpy as np\n",
    "import pandas as pd\n",
    "#from tragedy import team\n",
    "import itertools\n",
    "from random import choice, randint\n",
    "from keras.models import load_model\n",
    "\n"
   ]
  },
  {
   "cell_type": "code",
   "execution_count": 3,
   "metadata": {},
   "outputs": [],
   "source": [
    "dat2 = pd.read_csv('outfit_w_color_pattern.csv')\n",
    "## build vocab\n",
    "def convert_agent_output_to_judge_input(input_str):\n",
    "    broken_out = input_str.replace('_',' ')\n",
    "    input_str = broken_out +' '+input_str\n",
    "    return input_str\n",
    "convert_agent_output_to_judge_input('top_melange_grey')\n",
    "\n",
    "dat2['combined_tax_att'] = ''\n",
    "for index,row in dat2.iterrows():\n",
    "    tax_cat = row['taxonomy_cat']\n",
    "    pattern = row['pattern_tonks']\n",
    "    color = row['color_tonks']\n",
    "    \n",
    "    combined_cat = tax_cat+'_'+str(pattern)+'_'+str(color)\n",
    "    combined_cat = combined_cat.replace('[','')\n",
    "    combined_cat = combined_cat.replace(']','')\n",
    "    combined_cat = combined_cat.replace(\"'\",'')\n",
    "    \n",
    "    dat2.loc[index,'combined_tax_att'] = combined_cat\n",
    "dat2['for_judge'] = ''\n",
    "for index, row in dat2.iterrows():\n",
    "    tax_att = row['combined_tax_att']\n",
    "    dat2.loc[index,'for_judge'] = convert_agent_output_to_judge_input(tax_att)\n",
    "    \n",
    "    "
   ]
  },
  {
   "cell_type": "markdown",
   "metadata": {},
   "source": [
    "# use_predicted_probability refactor"
   ]
  },
  {
   "cell_type": "code",
   "execution_count": 4,
   "metadata": {},
   "outputs": [
    {
     "data": {
      "text/html": [
       "<div>\n",
       "<style scoped>\n",
       "    .dataframe tbody tr th:only-of-type {\n",
       "        vertical-align: middle;\n",
       "    }\n",
       "\n",
       "    .dataframe tbody tr th {\n",
       "        vertical-align: top;\n",
       "    }\n",
       "\n",
       "    .dataframe thead th {\n",
       "        text-align: right;\n",
       "    }\n",
       "</style>\n",
       "<table border=\"1\" class=\"dataframe\">\n",
       "  <thead>\n",
       "    <tr style=\"text-align: right;\">\n",
       "      <th></th>\n",
       "      <th>Unnamed: 0</th>\n",
       "      <th>Unnamed: 0.1</th>\n",
       "      <th>original_image</th>\n",
       "      <th>cropped_img_name</th>\n",
       "      <th>taxonomy_cat</th>\n",
       "      <th>color_tonks</th>\n",
       "      <th>color_prob</th>\n",
       "      <th>pattern_tonks</th>\n",
       "      <th>pattern_prob</th>\n",
       "      <th>combined_tax_att</th>\n",
       "      <th>for_judge</th>\n",
       "    </tr>\n",
       "  </thead>\n",
       "  <tbody>\n",
       "    <tr>\n",
       "      <th>0</th>\n",
       "      <td>0</td>\n",
       "      <td>0</td>\n",
       "      <td>fall_outfit_flatlay_00000000.jpg</td>\n",
       "      <td>fall_outfit_flatlay_00000000_2.jpg</td>\n",
       "      <td>bottom</td>\n",
       "      <td>navy</td>\n",
       "      <td>0.999985</td>\n",
       "      <td>melange</td>\n",
       "      <td>0.999436</td>\n",
       "      <td>bottom_melange_navy</td>\n",
       "      <td>bottom melange navy bottom_melange_navy</td>\n",
       "    </tr>\n",
       "    <tr>\n",
       "      <th>1</th>\n",
       "      <td>1</td>\n",
       "      <td>1</td>\n",
       "      <td>fall_outfit_flatlay_00000001.jpg</td>\n",
       "      <td>fall_outfit_flatlay_00000001_3.jpg</td>\n",
       "      <td>bottom</td>\n",
       "      <td>grey</td>\n",
       "      <td>0.999694</td>\n",
       "      <td>plaid</td>\n",
       "      <td>0.934133</td>\n",
       "      <td>bottom_plaid_grey</td>\n",
       "      <td>bottom plaid grey bottom_plaid_grey</td>\n",
       "    </tr>\n",
       "    <tr>\n",
       "      <th>2</th>\n",
       "      <td>2</td>\n",
       "      <td>2</td>\n",
       "      <td>fall_outfit_flatlay_00000006.jpg</td>\n",
       "      <td>fall_outfit_flatlay_00000006_2.jpg</td>\n",
       "      <td>bottom</td>\n",
       "      <td>blue</td>\n",
       "      <td>0.967016</td>\n",
       "      <td>melange</td>\n",
       "      <td>0.926557</td>\n",
       "      <td>bottom_melange_blue</td>\n",
       "      <td>bottom melange blue bottom_melange_blue</td>\n",
       "    </tr>\n",
       "    <tr>\n",
       "      <th>3</th>\n",
       "      <td>3</td>\n",
       "      <td>3</td>\n",
       "      <td>fall_outfit_flatlay_00000007.jpg</td>\n",
       "      <td>fall_outfit_flatlay_00000007_2.jpg</td>\n",
       "      <td>bottom</td>\n",
       "      <td>navy</td>\n",
       "      <td>0.999993</td>\n",
       "      <td>melange</td>\n",
       "      <td>0.999404</td>\n",
       "      <td>bottom_melange_navy</td>\n",
       "      <td>bottom melange navy bottom_melange_navy</td>\n",
       "    </tr>\n",
       "    <tr>\n",
       "      <th>4</th>\n",
       "      <td>4</td>\n",
       "      <td>4</td>\n",
       "      <td>fall_outfit_flatlay_00000008.jpg</td>\n",
       "      <td>fall_outfit_flatlay_00000008_3.jpg</td>\n",
       "      <td>bottom</td>\n",
       "      <td>blue</td>\n",
       "      <td>0.999270</td>\n",
       "      <td>melange</td>\n",
       "      <td>0.998162</td>\n",
       "      <td>bottom_melange_blue</td>\n",
       "      <td>bottom melange blue bottom_melange_blue</td>\n",
       "    </tr>\n",
       "  </tbody>\n",
       "</table>\n",
       "</div>"
      ],
      "text/plain": [
       "   Unnamed: 0  Unnamed: 0.1                    original_image  \\\n",
       "0           0             0  fall_outfit_flatlay_00000000.jpg   \n",
       "1           1             1  fall_outfit_flatlay_00000001.jpg   \n",
       "2           2             2  fall_outfit_flatlay_00000006.jpg   \n",
       "3           3             3  fall_outfit_flatlay_00000007.jpg   \n",
       "4           4             4  fall_outfit_flatlay_00000008.jpg   \n",
       "\n",
       "                     cropped_img_name taxonomy_cat color_tonks  color_prob  \\\n",
       "0  fall_outfit_flatlay_00000000_2.jpg       bottom        navy    0.999985   \n",
       "1  fall_outfit_flatlay_00000001_3.jpg       bottom        grey    0.999694   \n",
       "2  fall_outfit_flatlay_00000006_2.jpg       bottom        blue    0.967016   \n",
       "3  fall_outfit_flatlay_00000007_2.jpg       bottom        navy    0.999993   \n",
       "4  fall_outfit_flatlay_00000008_3.jpg       bottom        blue    0.999270   \n",
       "\n",
       "  pattern_tonks  pattern_prob     combined_tax_att  \\\n",
       "0       melange      0.999436  bottom_melange_navy   \n",
       "1         plaid      0.934133    bottom_plaid_grey   \n",
       "2       melange      0.926557  bottom_melange_blue   \n",
       "3       melange      0.999404  bottom_melange_navy   \n",
       "4       melange      0.998162  bottom_melange_blue   \n",
       "\n",
       "                                 for_judge  \n",
       "0  bottom melange navy bottom_melange_navy  \n",
       "1      bottom plaid grey bottom_plaid_grey  \n",
       "2  bottom melange blue bottom_melange_blue  \n",
       "3  bottom melange navy bottom_melange_navy  \n",
       "4  bottom melange blue bottom_melange_blue  "
      ]
     },
     "execution_count": 4,
     "metadata": {},
     "output_type": "execute_result"
    }
   ],
   "source": [
    "dat2.head()"
   ]
  },
  {
   "cell_type": "code",
   "execution_count": 6,
   "metadata": {},
   "outputs": [],
   "source": [
    "combined_text_list = list(dat2['taxonomy_cat'].unique())"
   ]
  },
  {
   "cell_type": "code",
   "execution_count": 7,
   "metadata": {},
   "outputs": [],
   "source": [
    "tax_att_dict = {}\n",
    "index = 0\n",
    "#tax_att_dict[0] = 'skip'\n",
    "for i in combined_text_list:\n",
    "    tax_att_dict[index] = i\n",
    "    index+=1\n",
    "    "
   ]
  },
  {
   "cell_type": "code",
   "execution_count": 8,
   "metadata": {},
   "outputs": [
    {
     "data": {
      "text/plain": [
       "'shoes'"
      ]
     },
     "execution_count": 8,
     "metadata": {},
     "output_type": "execute_result"
    }
   ],
   "source": [
    "tax_att_dict[3]"
   ]
  },
  {
   "cell_type": "code",
   "execution_count": 10,
   "metadata": {},
   "outputs": [],
   "source": [
    "'''\n",
    "tax_att_dict = {0:'dress blue dotted',\n",
    "                1:'top solid white',\n",
    "               2: 'bottom solid pink',\n",
    "               3:'shoes solid green',\n",
    "               4: 'outerwear blue melange',\n",
    "               5: 'top cheetah beige'}\n",
    "               \n",
    "'''"
   ]
  },
  {
   "cell_type": "code",
   "execution_count": 9,
   "metadata": {},
   "outputs": [
    {
     "data": {
      "text/plain": [
       "'top'"
      ]
     },
     "execution_count": 9,
     "metadata": {},
     "output_type": "execute_result"
    }
   ],
   "source": [
    "def use_predicted_probability(label_dict,pred_key):\n",
    "    return label_dict[pred_key]\n",
    "\n",
    "use_predicted_probability(tax_att_dict,4)"
   ]
  },
  {
   "cell_type": "code",
   "execution_count": 10,
   "metadata": {},
   "outputs": [
    {
     "data": {
      "text/plain": [
       "5"
      ]
     },
     "execution_count": 10,
     "metadata": {},
     "output_type": "execute_result"
    }
   ],
   "source": [
    "len(tax_att_dict)"
   ]
  },
  {
   "cell_type": "code",
   "execution_count": 11,
   "metadata": {},
   "outputs": [
    {
     "data": {
      "text/plain": [
       "'bottom'"
      ]
     },
     "execution_count": 11,
     "metadata": {},
     "output_type": "execute_result"
    }
   ],
   "source": [
    "## random action refactor\n",
    "def random_outfit(outfit_dict):\n",
    "    outfit_to_play = randint(0,(len(outfit_dict)-1))\n",
    "    return outfit_to_play\n",
    "\n",
    "\n",
    "use_predicted_probability(tax_att_dict,random_outfit(tax_att_dict))"
   ]
  },
  {
   "cell_type": "code",
   "execution_count": 12,
   "metadata": {
    "scrolled": true
   },
   "outputs": [
    {
     "name": "stdout",
     "output_type": "stream",
     "text": [
      "3 shoes\n",
      "4 top\n",
      "3 shoes\n",
      "3 shoes\n",
      "0 bottom\n",
      "2 outerwear\n",
      "4 top\n",
      "1 dress\n",
      "4 top\n",
      "3 shoes\n",
      "3 shoes\n",
      "2 outerwear\n",
      "3 shoes\n",
      "2 outerwear\n",
      "3 shoes\n",
      "0 bottom\n",
      "0 bottom\n",
      "1 dress\n",
      "1 dress\n",
      "3 shoes\n"
     ]
    }
   ],
   "source": [
    "for i in range(20):\n",
    "    zz = random_outfit(tax_att_dict)\n",
    "    print(zz, use_predicted_probability(tax_att_dict,zz))"
   ]
  },
  {
   "cell_type": "code",
   "execution_count": null,
   "metadata": {},
   "outputs": [],
   "source": [
    "\n"
   ]
  },
  {
   "cell_type": "code",
   "execution_count": 13,
   "metadata": {},
   "outputs": [
    {
     "data": {
      "text/plain": [
       "5"
      ]
     },
     "execution_count": 13,
     "metadata": {},
     "output_type": "execute_result"
    }
   ],
   "source": [
    "from sklearn.feature_extraction.text import CountVectorizer\n",
    "corpus = dat2['taxonomy_cat'].tolist()\n",
    "\n",
    "vectorizer = CountVectorizer()\n",
    "vectorizer = vectorizer.fit(corpus)\n",
    "len(vectorizer.get_feature_names())\n",
    "\n",
    "#update(new_state,reward)      "
   ]
  },
  {
   "cell_type": "code",
   "execution_count": 14,
   "metadata": {},
   "outputs": [
    {
     "name": "stdout",
     "output_type": "stream",
     "text": [
      "top_solid_brown top_solid_brown top_solid_brown top_melange_grey\n",
      "top solid brown top solid brown top solid brown top melange grey top_solid_brown top_solid_brown top_solid_brown top_melange_grey\n"
     ]
    }
   ],
   "source": [
    "#zz = use_predicted_probability(tax_att_dict,random_outfit(tax_att_dict))\n",
    "zz = 'top_solid_brown top_solid_brown top_solid_brown top_melange_grey'\n",
    "print(zz)\n",
    "print(convert_agent_output_to_judge_input(zz))\n",
    "\n",
    "vectorized_otfit = vectorizer.transform([convert_agent_output_to_judge_input(zz)])\n"
   ]
  },
  {
   "cell_type": "code",
   "execution_count": 15,
   "metadata": {},
   "outputs": [],
   "source": [
    "zz = vectorized_otfit.toarray()"
   ]
  },
  {
   "cell_type": "code",
   "execution_count": 16,
   "metadata": {},
   "outputs": [
    {
     "data": {
      "text/plain": [
       "5"
      ]
     },
     "execution_count": 16,
     "metadata": {},
     "output_type": "execute_result"
    }
   ],
   "source": [
    "len(list(zz[0]))"
   ]
  },
  {
   "cell_type": "code",
   "execution_count": 17,
   "metadata": {},
   "outputs": [
    {
     "data": {
      "text/plain": [
       "array([0, 0, 0, 0, 4])"
      ]
     },
     "execution_count": 17,
     "metadata": {},
     "output_type": "execute_result"
    }
   ],
   "source": [
    "zz[0]"
   ]
  },
  {
   "cell_type": "code",
   "execution_count": 24,
   "metadata": {},
   "outputs": [],
   "source": [
    "# Outfiting env\n",
    "from random import choice, randint\n",
    "\n",
    "#play tragedy of the commons\n",
    "import random\n",
    "import math\n",
    "#rl_model_name = 'altruistic_1_9_26'\n",
    "rl_model_name = 'greed_1_9_26'\n",
    "\n",
    "class outfit_bot:\n",
    "    def __init__(self,type=None,action_dict=None):\n",
    "        self.outfit_score = 0\n",
    "        self.type = type\n",
    "        self.label_dict=action_dict\n",
    "    def get_action(self, state =None):\n",
    "        return self.label_dict[randint(0,(len(self.label_dict)-1))]\n",
    "\n",
    "        \n",
    "    \n",
    "\n",
    "\n",
    "\n",
    "class TOC:\n",
    "    def __init__(self, num_learning_rounds =None, learner = None, report_every=1000, vectorizer=None,outfit_bot=None):\n",
    "        self._num_learning_rounds = num_learning_rounds\n",
    "        self._report_every = report_every\n",
    "        self.player = outfit_bot #change to learner later\n",
    "        self.game = 1\n",
    "        self.evaluation = False\n",
    "        self.outfit_records = []\n",
    "        \n",
    "    def play_game(self):\n",
    "        \n",
    "        p1,initial_item,outfit_score = self.reset_game()\n",
    "        #opp  last  played, player last played, opp_score,player_score,turn#, current_fishery_count, \n",
    "        state = initial_item\n",
    "        turn_count = 0\n",
    "        print(state,outfit_score)\n",
    "        pre_outfit_score = outfit_score\n",
    "        #every \"game\" is going to be some number of rounds where it picks an item at every round\n",
    "        # for now setting it to 4\n",
    "        for turn in range(4):\n",
    "            vectorized_state = vectorizer.transform([convert_agent_output_to_judge_input(state)])\n",
    "            vectorized_state = list(vectorized_state.toarray()[0])\n",
    "            \n",
    "            next_clothing_choice = p1.get_action(vectorized_state)\n",
    "            if 'bottom' in state:\n",
    "                round_outfit_score = state.count('bottom')*10\n",
    "            else:\n",
    "                round_outfit_score = 1\n",
    "            round_score_diff = round_outfit_score - pre_outfit_score\n",
    "            pre_outfit_score = round_outfit_score\n",
    "            \n",
    "            print(next_clothing_choice)\n",
    "            state = state +' '+ next_clothing_choice\n",
    "            \n",
    "            print(state, round_score_diff)\n",
    "            #p1.update(state1,round_outfit_score) #state + reward from the environment\n",
    "\n",
    "\n",
    "            if  self.evaluation == True:\n",
    "                print('outfit score :',outfit_score)\n",
    "\n",
    "        if self.evaluation == False:\n",
    "            self.game += 1\n",
    "            self.outfit_records.append(outfit_score)\n",
    "            self.report()\n",
    "\n",
    "        if self.game == self._num_learning_rounds:\n",
    "            print(\"Turning off learning!\")\n",
    "            self.player._learning = False\n",
    "            self.win = 0\n",
    "            self.loss = 0\n",
    "\n",
    "    def reset_game(self):\n",
    "        '''\n",
    "        steps to reset:\n",
    "        1) get random item out of the product catalog can select a thing out of the label dict\n",
    "        \n",
    "        ## random action refactor\n",
    "        def random_outfit(tax_att_dict):\n",
    "            outfit_to_play = randint(0,(len(tax_att_dict)-1))\n",
    "            return outfit_to_play\n",
    "        \n",
    "        score set to 0\n",
    "        '''\n",
    "        p1  = self.player\n",
    "        #print(self.player)\n",
    "        outfit_score = 0 # outfitt score should be sent through model/rules for a 1 outfit item \n",
    "    \n",
    "        #I shpould probably just have a function for this?\n",
    "        initial_item = self.player.label_dict[random_outfit(self.player.label_dict)]\n",
    "\n",
    "        return p1,initial_item,outfit_score\n",
    "    \n",
    "    def report(self):\n",
    "        #turned off for plotting 9/18\n",
    "        if self.game % self._num_learning_rounds == 0:\n",
    "\n",
    "            avg_outfit_score =  sum(self.outfit_records) / float(len(self.outfit_records))\n",
    "            self.turn_record = []\n",
    "            print('##############################################')\n",
    "            print('#                 Final Score                #')\n",
    "            print('##############################################')\n",
    "            print('')\n",
    "            print(str(self.game))\n",
    "            print('')\n",
    "            print('average game length: ',avg_outfit_score)\n",
    "            print('##############################################')\n",
    "            \n",
    "            #turning off this section for testing\n",
    "            self.evaluation = True\n",
    "            self.player._epsilon = 1.0\n",
    "            print('#################### G1 ######################')\n",
    "            self.play_game()\n",
    "            print('#################### G2 ######################')\n",
    "            self.play_game()\n",
    "            print('#################### G3 ######################')\n",
    "            self.play_game()\n",
    "            self.player._epsilon = .9\n",
    "            self.evaluation = False\n",
    "            \n",
    "            #self.player.save_rl_model('models/{}_iteration_{}'.format(rl_model_name,self.game))\n",
    "            \n",
    "        elif self.game % self._report_every == 0:\n",
    "            avg_outfit_score =  sum(self.outfit_records) / float(len(self.outfit_records))\n",
    "            self.turn_record = []\n",
    "            print('##############################################')\n",
    "            print('#                Updated Score               #')\n",
    "            print('##############################################')\n",
    "            print('')\n",
    "            print(str(self.game))\n",
    "            print('')\n",
    "            print('average game length: ',avg_outfit_score)\n",
    "            print('##############################################')\n",
    "            \n",
    "            #turning off this section for testing\n",
    "            self.evaluation = True\n",
    "            self.player._epsilon = 1.0\n",
    "            print('#################### G1 ######################')\n",
    "            self.play_game()\n",
    "            print('#################### G2 ######################')\n",
    "            self.play_game()\n",
    "            print('#################### G3 ######################')\n",
    "            self.play_game()\n",
    "            self.player._epsilon = .9\n",
    "            self.evaluation = False\n",
    "            \n",
    "            #self.player.save_rl_model('models/{}_iteration_{}'.format(rl_model_name,self.game))\n",
    "\n",
    "            \n",
    "bot1 = outfit_bot(action_dict = tax_att_dict)\n",
    "\n",
    "game1 = TOC(num_learning_rounds = 1, vectorizer = vectorizer, outfit_bot = bot1)\n",
    "#game1.play_game()"
   ]
  },
  {
   "cell_type": "code",
   "execution_count": 26,
   "metadata": {},
   "outputs": [
    {
     "name": "stdout",
     "output_type": "stream",
     "text": [
      "shoes 0\n",
      "bottom\n",
      "shoes bottom 1\n",
      "outerwear\n",
      "shoes bottom outerwear 9\n",
      "outerwear\n",
      "shoes bottom outerwear outerwear 0\n",
      "shoes\n",
      "shoes bottom outerwear outerwear shoes 0\n",
      "##############################################\n",
      "#                 Final Score                #\n",
      "##############################################\n",
      "\n",
      "3\n",
      "\n",
      "average game length:  0.0\n",
      "##############################################\n",
      "#################### G1 ######################\n",
      "shoes 0\n",
      "bottom\n",
      "shoes bottom 1\n",
      "outfit score : 0\n",
      "outerwear\n",
      "shoes bottom outerwear 9\n",
      "outfit score : 0\n",
      "dress\n",
      "shoes bottom outerwear dress 0\n",
      "outfit score : 0\n",
      "shoes\n",
      "shoes bottom outerwear dress shoes 0\n",
      "outfit score : 0\n",
      "#################### G2 ######################\n",
      "shoes 0\n",
      "shoes\n",
      "shoes shoes 1\n",
      "outfit score : 0\n",
      "shoes\n",
      "shoes shoes shoes 0\n",
      "outfit score : 0\n",
      "bottom\n",
      "shoes shoes shoes bottom 0\n",
      "outfit score : 0\n",
      "bottom\n",
      "shoes shoes shoes bottom bottom 9\n",
      "outfit score : 0\n",
      "#################### G3 ######################\n",
      "bottom 0\n",
      "bottom\n",
      "bottom bottom 10\n",
      "outfit score : 0\n",
      "bottom\n",
      "bottom bottom bottom 10\n",
      "outfit score : 0\n",
      "shoes\n",
      "bottom bottom bottom shoes 10\n",
      "outfit score : 0\n",
      "bottom\n",
      "bottom bottom bottom shoes bottom 0\n",
      "outfit score : 0\n"
     ]
    }
   ],
   "source": [
    "game1.play_game()"
   ]
  },
  {
   "cell_type": "code",
   "execution_count": null,
   "metadata": {},
   "outputs": [],
   "source": []
  },
  {
   "cell_type": "code",
   "execution_count": null,
   "metadata": {},
   "outputs": [],
   "source": []
  }
 ],
 "metadata": {
  "kernelspec": {
   "display_name": "Python 3",
   "language": "python",
   "name": "python3"
  },
  "language_info": {
   "codemirror_mode": {
    "name": "ipython",
    "version": 3
   },
   "file_extension": ".py",
   "mimetype": "text/x-python",
   "name": "python",
   "nbconvert_exporter": "python",
   "pygments_lexer": "ipython3",
   "version": "3.7.4"
  }
 },
 "nbformat": 4,
 "nbformat_minor": 2
}
